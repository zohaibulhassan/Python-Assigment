{
 "cells": [
  {
   "cell_type": "code",
   "execution_count": 1,
   "metadata": {},
   "outputs": [
    {
     "name": "stdout",
     "output_type": "stream",
     "text": [
      "Enter a number to complete the factorial : 654\n",
      "146619044833295355029651129533826227936553989708000542259817731083937882312812315281461715398610912318858683119600661705123222784902551880526378057688725446970896645446672900564838846313219468261415048818556255103550132637276210794718361443327336039822652537871522077286296810502515392331379198492195747763095078828221701678897278802304648168622555184654507531478526277388042022616477520579293706817030018427703005837125035062760233247864485687112712860483900782588284925858083093748475395264961988714301623155316932771024797849065998301129948675909614606534921243382222727960675085916556641721529842169696719894190037292959351654253779095091757932715763490184977196102832360538980332390248237493309203585017533271945687151587936036669461558967321473433332439377947911509980315126211742986741857591739161429962020156708446099720042143376252439074901886454909693211655651057812449507664181104670523709000296915616236706728233326502089900864055335881113577748859011826369652292015560706892989979281825661266097916496444343443181811256953449311822608014899721176296660571350202371973537989907594143336905384350954022596305513459202886324304320200706762301166848481248704384340181905647519530958068211605915432184087291892886569547751090198192704798948926053415293718375531573989604748119765167706535260147802294066939732185639745674114807915154045356073885798501803909320607045912515732563347694944256000000000000000000000000000000000000000000000000000000000000000000000000000000000000000000000000000000000000000000000000000000000000000000000000000000000000000000\n"
     ]
    }
   ],
   "source": [
    "def factorial(n):\n",
    "    if n == 0:\n",
    "        return 1\n",
    "    else :\n",
    "        return n * factorial(n-1)\n",
    "n = int(input(\"Enter a number to complete the factorial : \"))\n",
    "print(factorial(n))"
   ]
  },
  {
   "cell_type": "code",
   "execution_count": 2,
   "metadata": {},
   "outputs": [
    {
     "name": "stdout",
     "output_type": "stream",
     "text": [
      "Please Enter Any Text Only :zgrdy\n",
      "Original String :  zgrdy\n",
      "No. of Upper case characters is :  0\n",
      "No. of Lower case Characters is :  5\n"
     ]
    }
   ],
   "source": [
    "def my_string(s):\n",
    "    d = {\"UPPER_CASE\" : 0, \"LOWER_CASE\" : 0 }\n",
    "    for c in s:\n",
    "        if c.isupper():\n",
    "            d[\"UPPER_CASE\"]+=1\n",
    "        elif c.islower():\n",
    "            d[\"LOWER_CASE\"]+=1\n",
    "        else:\n",
    "            pass\n",
    "    print (\"Original String : \", s)\n",
    "    print (\"No. of Upper case characters is : \", d[\"UPPER_CASE\"])\n",
    "    print (\"No. of Lower case Characters is : \", d[\"LOWER_CASE\"])\n",
    "\n",
    "my_string(input(\"Please Enter Any Text Only :\"))"
   ]
  },
  {
   "cell_type": "code",
   "execution_count": 3,
   "metadata": {},
   "outputs": [
    {
     "name": "stdout",
     "output_type": "stream",
     "text": [
      "[2, 4, 6, 8, 10, 12, 14]\n"
     ]
    }
   ],
   "source": [
    "\n",
    "def my_even_num(n):\n",
    "    enum = []\n",
    "    for e in n :\n",
    "        if e % 2 == 0:\n",
    "            enum.append(e)\n",
    "    return enum\n",
    "print(my_even_num([1, 2, 3, 4, 5, 6, 7, 8, 9, 10, 11, 12, 13, 14, 15]))"
   ]
  },
  {
   "cell_type": "code",
   "execution_count": 4,
   "metadata": {},
   "outputs": [
    {
     "name": "stdout",
     "output_type": "stream",
     "text": [
      "Enter Any Text :fsgs\n",
      "False\n"
     ]
    }
   ],
   "source": [
    "def my_palindrome(string):\n",
    "    left_pos = 0\n",
    "    right_pos = len(string) - 1\n",
    "    \n",
    "    while right_pos >= left_pos:\n",
    "        if not string[left_pos] == string[right_pos]:\n",
    "            return False\n",
    "        left_pos += 1\n",
    "        right_pos -= 1\n",
    "        return True\n",
    "print(my_palindrome(input('Enter Any Text :')))"
   ]
  },
  {
   "cell_type": "code",
   "execution_count": 5,
   "metadata": {},
   "outputs": [
    {
     "name": "stdout",
     "output_type": "stream",
     "text": [
      "False\n"
     ]
    }
   ],
   "source": [
    "def my_prime(p):\n",
    "    if (p==1):\n",
    "        return False\n",
    "    elif (p==2):\n",
    "        return True\n",
    "    else:\n",
    "        for x in range(2,p):\n",
    "            if(p % x==0):\n",
    "                return False\n",
    "        return True\n",
    "\n",
    "print(my_prime(100))"
   ]
  },
  {
   "cell_type": "code",
   "execution_count": 6,
   "metadata": {},
   "outputs": [
    {
     "name": "stdout",
     "output_type": "stream",
     "text": [
      "Your Shopping List :\n",
      " Atta\n",
      " Oli\n",
      " Soup\n",
      " Chicken\n",
      " Milk\n",
      " Salt\n"
     ]
    }
   ],
   "source": [
    "print(\"Your Shopping List :\" ,)\n",
    "def shop(*products):\n",
    "    for product in products:\n",
    "           print(product)\n",
    "\n",
    "shop(\" Atta\" , \" Oli\" , \" Soup\" , \" Chicken\" , \" Milk\" , \" Salt\" )"
   ]
  },
  {
   "cell_type": "code",
   "execution_count": null,
   "metadata": {},
   "outputs": [],
   "source": []
  }
 ],
 "metadata": {
  "kernelspec": {
   "display_name": "Python 3",
   "language": "python",
   "name": "python3"
  },
  "language_info": {
   "codemirror_mode": {
    "name": "ipython",
    "version": 3
   },
   "file_extension": ".py",
   "mimetype": "text/x-python",
   "name": "python",
   "nbconvert_exporter": "python",
   "pygments_lexer": "ipython3",
   "version": "3.7.4"
  }
 },
 "nbformat": 4,
 "nbformat_minor": 2
}
