{
 "cells": [
  {
   "cell_type": "code",
   "execution_count": 1,
   "metadata": {},
   "outputs": [
    {
     "name": "stdout",
     "output_type": "stream",
     "text": [
      "Enter your Namezohaib \n",
      "zohaib \n",
      "Enter your ClassBSCS\n",
      "BSCS\n"
     ]
    }
   ],
   "source": [
    "print(input(\"Enter your Name\"))\n",
    "print(input(\"Enter your Class\"))"
   ]
  },
  {
   "cell_type": "code",
   "execution_count": 2,
   "metadata": {},
   "outputs": [
    {
     "name": "stdout",
     "output_type": "stream",
     "text": [
      "My Daily List:\n",
      "**\n",
      "['email', 'call', 'meeting']\n",
      " Enter a task that you have done in day: email\n",
      "your remaining task is, ['call', 'meeting']\n",
      "your completed task is, ['email']\n",
      " Enter a task that you have done in day: call\n",
      "your remaining task is, ['meeting']\n",
      "your completed task is, ['email', 'call']\n",
      " Enter a task that you have done in day: meeting\n",
      "your remaining task is, []\n",
      "your completed task is, ['email', 'call', 'meeting']\n",
      "“Now your list is empty”\n"
     ]
    }
   ],
   "source": [
    "daily_list = [\"email\", \"call\", \"meeting\"]\n",
    "empty_list = []\n",
    "\n",
    "print(\"My Daily List:\")\n",
    "print(\"**\")\n",
    "print(daily_list)\n",
    "\n",
    "while (daily_list != []):\n",
    "    user_input = input(\" Enter a task that you have done in day: \")\n",
    "    \n",
    "    if user_input in daily_list :\n",
    "        \n",
    "        user_input_id = daily_list.index(user_input)\n",
    "        empty_list.append(daily_list.pop(user_input_id))\n",
    "        print(f\"your remaining task is, {daily_list}\")\n",
    "        print(f\"your completed task is, {empty_list}\") \n",
    "    \n",
    "    else:\n",
    "        print('“This task is not in the to do list”')\n",
    "print('“Now your list is empty”')"
   ]
  },
  {
   "cell_type": "code",
   "execution_count": 3,
   "metadata": {},
   "outputs": [
    {
     "name": "stdout",
     "output_type": "stream",
     "text": [
      "length of list  5\n"
     ]
    }
   ],
   "source": [
    "la=(1,2,3,4,5)\n",
    "print(\"length of list \",len(la))"
   ]
  },
  {
   "cell_type": "code",
   "execution_count": 4,
   "metadata": {},
   "outputs": [
    {
     "name": "stdout",
     "output_type": "stream",
     "text": [
      "sum of list 15\n"
     ]
    }
   ],
   "source": [
    "print(\"sum of list\",sum(la))"
   ]
  },
  {
   "cell_type": "code",
   "execution_count": 5,
   "metadata": {},
   "outputs": [
    {
     "name": "stdout",
     "output_type": "stream",
     "text": [
      "larger Number of List 5\n"
     ]
    }
   ],
   "source": [
    "print(\"larger Number of List\",max(la))\n"
   ]
  },
  {
   "cell_type": "code",
   "execution_count": 6,
   "metadata": {},
   "outputs": [
    {
     "name": "stdout",
     "output_type": "stream",
     "text": [
      "less than 5 1\n"
     ]
    }
   ],
   "source": [
    "print(\"less than 5\",min(la))\n"
   ]
  },
  {
   "cell_type": "code",
   "execution_count": 7,
   "metadata": {},
   "outputs": [
    {
     "name": "stdout",
     "output_type": "stream",
     "text": [
      "Enter Number: 31\n",
      "\n",
      "31 is odd\n"
     ]
    }
   ],
   "source": [
    "num=int(input(\"Enter Number: \"))\n",
    "print(\"\")\n",
    "if (num%2==0):\n",
    "    print(f\"{num} is even\")\n",
    "else:\n",
    "    print(f\"{num} is odd\")"
   ]
  },
  {
   "cell_type": "code",
   "execution_count": null,
   "metadata": {},
   "outputs": [],
   "source": []
  }
 ],
 "metadata": {
  "kernelspec": {
   "display_name": "Python 3",
   "language": "python",
   "name": "python3"
  },
  "language_info": {
   "codemirror_mode": {
    "name": "ipython",
    "version": 3
   },
   "file_extension": ".py",
   "mimetype": "text/x-python",
   "name": "python",
   "nbconvert_exporter": "python",
   "pygments_lexer": "ipython3",
   "version": "3.7.4"
  }
 },
 "nbformat": 4,
 "nbformat_minor": 2
}
