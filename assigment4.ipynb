{
 "cells": [
  {
   "cell_type": "code",
   "execution_count": 3,
   "metadata": {},
   "outputs": [
    {
     "name": "stdout",
     "output_type": "stream",
     "text": [
      "Student Information :\n",
      " {'first_name': 'zohaib ul ', 'last_name': 'hassan khan', 'age': '18 years old', 'city': 'Karachi'}\n",
      "\n",
      "Add a new key value pair about qualification : \n",
      " {'first_name': 'zohaib ul ', 'last_name': 'hassan khan', 'age': '18 years old', 'city': 'Karachi', 'qualification': 'Matric'}\n",
      "\n",
      "Update Qualification :\n",
      " {'first_name': 'zohaib ul ', 'last_name': 'hassan khan', 'age': '18 years old', 'city': 'Karachi', 'qualification': 'PHD'}\n",
      "\n",
      "Delete Qualification :\n",
      " {'first_name': 'zohaib ul ', 'last_name': 'hassan khan', 'age': '18 years old', 'city': 'Karachi'}\n"
     ]
    }
   ],
   "source": [
    "std_info = {\n",
    "        \"first_name\" : \"zohaib ul \",\n",
    "        \"last_name\" : \"hassan khan\",\n",
    "        \"age\" : \"18 years old\",\n",
    "        \"city\" : \"Karachi\",\n",
    "}\n",
    "\n",
    "print(\"Student Information :\" + \"\\n\",std_info)\n",
    "\n",
    "std_info['qualification']= 'Matric'\n",
    "\n",
    "print(\"\\n\" + \"Add a new key value pair about qualification : \" + \"\\n\",std_info)\n",
    "\n",
    "std_info.update({\"qualification\" : \"PHD\"})\n",
    "\n",
    "print(\"\\n\" + \"Update Qualification :\" + \"\\n\",std_info)\n",
    "\n",
    "del std_info[\"qualification\"]\n",
    "\n",
    "print(\"\\n\" + \"Delete Qualification :\" + \"\\n\",std_info)"
   ]
  },
  {
   "cell_type": "code",
   "execution_count": 5,
   "metadata": {},
   "outputs": [
    {
     "name": "stdout",
     "output_type": "stream",
     "text": [
      "{'City': 'Istanbul', 'Country': 'Turkey', 'Population': '14,967,667', 'Fact': ' Istanbul  (ancient Byzantium)  was founded on Seven  Hills like Rome.Istanbul is the only city in the world which is both in Europe and Asia geographicaly.'}\n"
     ]
    }
   ],
   "source": [
    "cities={\n",
    "    \"Lahore\" :{\n",
    "                \"City\" : \"Lahore\" ,\n",
    "                \"Country\" : \"Pakistan\" ,\n",
    "                \"Population\" : \"12,188,196\" ,\n",
    "                \"Fact\" : \"Lahore is privileged to have the first ever Food Street which  was opened in mid 90’s in Gawalmandi. This experiment went successful and spread in rest part of urban cities of Pakistan.  Lahore is famous across the globe due to variety of non-veg food.\"\n",
    "    \n",
    "                },\n",
    "    \"Makkah\" :{\n",
    "                \"City\" : \"Makkah\" ,\n",
    "                \"Country\" : \"Saudi Arabia\" ,\n",
    "                \"Population\" : \"1,675,368,\" ,\n",
    "                \"Fact\" : \" Makkah is one of the oldest continually inhabited cities  in the world .The Zamzam well alone is believed to be around 4,000 years old.\"\n",
    "    \n",
    "                   },    \n",
    "     \"Istanbul\" :{\n",
    "                  \"City\" : \"Istanbul\" ,\n",
    "                  \"Country\" : \"Turkey\" ,\n",
    "                  \"Population\" : \"14,967,667\" ,\n",
    "                  \"Fact\" : \" Istanbul  (ancient Byzantium)  was founded on Seven  Hills like Rome.Istanbul is the only city in the world which is both in Europe and Asia geographicaly.\"\n",
    "                },\n",
    "    \n",
    "}\n",
    "print(cities[\"Istanbul\"])"
   ]
  },
  {
   "cell_type": "code",
   "execution_count": 6,
   "metadata": {},
   "outputs": [
    {
     "name": "stdout",
     "output_type": "stream",
     "text": [
      "Welcome To Cienpax Cinema.\n",
      "What is your age?12\n",
      "Your Ticket is $10.\n"
     ]
    }
   ],
   "source": [
    "print(\"Welcome To Cienpax Cinema.\")\n",
    "\n",
    "age = int(input(\"What is your age?\"))\n",
    "\n",
    "if age<3 :\n",
    "    print(\"Your Ticket is free.\")\n",
    "elif age <=12 :\n",
    "    print(\"Your Ticket is $10.\")\n",
    "else :\n",
    "    print (\"Your Ticket is $15.\")"
   ]
  },
  {
   "cell_type": "code",
   "execution_count": 7,
   "metadata": {},
   "outputs": [
    {
     "name": "stdout",
     "output_type": "stream",
     "text": [
      "Holy Quran is my favorite book. \n"
     ]
    }
   ],
   "source": [
    "def favorite_book(title):\n",
    "    print(title + \" is my favorite book. \")\n",
    "    \n",
    "favorite_book(\"Holy Quran\")"
   ]
  },
  {
   "cell_type": "code",
   "execution_count": 8,
   "metadata": {},
   "outputs": [
    {
     "name": "stdout",
     "output_type": "stream",
     "text": [
      "Hello! What is your name ? \n",
      "zohaib\n",
      "Well,zohaib , I am thinking of a number between 1 and 30.\n",
      "Take a guess.\n",
      "2\n",
      "Yor guess is too low.\n",
      "Take a guess.\n",
      "24\n",
      "Yor guess is too low.\n",
      "Take a guess.\n",
      "23\n",
      "Yor guess is too low.\n",
      "Take a guess.\n",
      "1\n",
      "Yor guess is too low.\n",
      "Take a guess.\n",
      "34\n",
      "Your guess is too high.\n",
      "Take a guess.\n",
      "17\n",
      "Yor guess is too low.\n",
      "Nope, the number , I was thanking of was 27\n"
     ]
    }
   ],
   "source": [
    "\n",
    "import random\n",
    "\n",
    "guessesTaken = 0\n",
    "\n",
    "print (\"Hello! What is your name ? \")\n",
    "myName = input()\n",
    "\n",
    "number = random.randint(1 ,30)\n",
    "print(\"Well,\" + myName + \" , I am thinking of a number between 1 and 30.\")\n",
    "\n",
    "while guessesTaken < 6:\n",
    "    print(\"Take a guess.\")\n",
    "    guess = input()\n",
    "    guess = int(guess)\n",
    "    \n",
    "    guessesTaken = guessesTaken + 1\n",
    "    if guess < number :\n",
    "        print(\"Yor guess is too low.\")\n",
    "    if guess > number :\n",
    "        print(\"Your guess is too high.\")\n",
    "    if guess == number :\n",
    "        break\n",
    "        \n",
    "if guess == number :\n",
    "    guessTaken = str(guessTaken)\n",
    "    print(\"Good job\" + myName + \" ! you guessed my number in \" + guessesTaken + \"guesses\")\n",
    "        \n",
    "if guess != number :\n",
    "        number = str(number)\n",
    "        print(\"Nope, the number , I was thanking of was \" + number)"
   ]
  },
  {
   "cell_type": "code",
   "execution_count": null,
   "metadata": {},
   "outputs": [],
   "source": []
  }
 ],
 "metadata": {
  "kernelspec": {
   "display_name": "Python 3",
   "language": "python",
   "name": "python3"
  },
  "language_info": {
   "codemirror_mode": {
    "name": "ipython",
    "version": 3
   },
   "file_extension": ".py",
   "mimetype": "text/x-python",
   "name": "python",
   "nbconvert_exporter": "python",
   "pygments_lexer": "ipython3",
   "version": "3.7.4"
  }
 },
 "nbformat": 4,
 "nbformat_minor": 2
}
